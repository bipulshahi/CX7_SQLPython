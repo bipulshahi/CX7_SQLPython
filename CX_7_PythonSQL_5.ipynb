{
 "cells": [
  {
   "cell_type": "code",
   "execution_count": 3,
   "id": "1b9483ad-84b3-4707-b46e-b46b9f9fa47d",
   "metadata": {},
   "outputs": [
    {
     "name": "stdout",
     "output_type": "stream",
     "text": [
      "Requirement already satisfied: mysql-connector-python in /Library/Frameworks/Python.framework/Versions/3.9/lib/python3.9/site-packages (8.3.0)\n",
      "\u001b[33mWARNING: You are using pip version 20.2.3; however, version 24.0 is available.\n",
      "You should consider upgrading via the '/Library/Frameworks/Python.framework/Versions/3.9/bin/python3.9 -m pip install --upgrade pip' command.\u001b[0m\n"
     ]
    }
   ],
   "source": [
    "!pip3 install mysql-connector-python"
   ]
  },
  {
   "cell_type": "code",
   "execution_count": 2,
   "id": "6042e8ad-96e4-4f92-94e6-9b8779c66ee6",
   "metadata": {},
   "outputs": [
    {
     "name": "stdout",
     "output_type": "stream",
     "text": [
      "11\n"
     ]
    }
   ],
   "source": [
    "import mysql.connector\n",
    "\n",
    "mydb = mysql.connector.connect(host=\"localhost\",user=\"root\",password=\"725@Mysql\")\n",
    "\n",
    "print(mydb.connection_id)"
   ]
  },
  {
   "cell_type": "code",
   "execution_count": 4,
   "id": "7c01cc78-0e1a-4748-b06e-9712924ad983",
   "metadata": {},
   "outputs": [],
   "source": [
    "cur = mydb.cursor()    #object to execute sql querries"
   ]
  },
  {
   "cell_type": "code",
   "execution_count": 5,
   "id": "1be64853-b9f2-4468-b515-6b8c4fea81f7",
   "metadata": {},
   "outputs": [],
   "source": [
    "cur.execute(\"show databases\")"
   ]
  },
  {
   "cell_type": "code",
   "execution_count": 6,
   "id": "3d6286b9-0f34-450f-abdd-1a6f1d2fd617",
   "metadata": {},
   "outputs": [
    {
     "name": "stdout",
     "output_type": "stream",
     "text": [
      "('CompanyDB',)\n",
      "('cx_db1',)\n",
      "('db1',)\n",
      "('db2',)\n",
      "('f_db1',)\n",
      "('f_db2',)\n",
      "('idb1',)\n",
      "('idb2',)\n",
      "('idb3',)\n",
      "('idb4',)\n",
      "('idb5',)\n",
      "('information_schema',)\n",
      "('mydb',)\n",
      "('mydb_emp',)\n",
      "('mysql',)\n",
      "('mysql_db',)\n",
      "('performance_schema',)\n",
      "('sys',)\n"
     ]
    }
   ],
   "source": [
    "for dba in cur:\n",
    "    print(dba)"
   ]
  },
  {
   "cell_type": "code",
   "execution_count": 7,
   "id": "47b39b77-1b85-4bea-b997-2dbdb49fbb5a",
   "metadata": {},
   "outputs": [],
   "source": [
    "cur.execute(\"use CompanyDB\")"
   ]
  },
  {
   "cell_type": "code",
   "execution_count": 8,
   "id": "ae8a56fb-d939-4053-9bd0-e6154fc3fe80",
   "metadata": {},
   "outputs": [],
   "source": [
    "cur.execute(\"show tables\")"
   ]
  },
  {
   "cell_type": "code",
   "execution_count": 9,
   "id": "8fef9203-f0b4-442d-a762-f9a2e39075cb",
   "metadata": {},
   "outputs": [
    {
     "name": "stdout",
     "output_type": "stream",
     "text": [
      "('departments',)\n",
      "('emp_id_dept_id_info',)\n",
      "('employee_backup',)\n",
      "('employees',)\n",
      "('ordered_emp_salary',)\n"
     ]
    }
   ],
   "source": [
    "for table in cur:\n",
    "    print(table)"
   ]
  },
  {
   "cell_type": "code",
   "execution_count": 10,
   "id": "5ad49981-318b-4234-9595-671ed0384c05",
   "metadata": {},
   "outputs": [],
   "source": [
    "cur.execute('select * from employees')"
   ]
  },
  {
   "cell_type": "code",
   "execution_count": 11,
   "id": "2225d576-e974-4a24-baf5-12ac96ed15ae",
   "metadata": {},
   "outputs": [
    {
     "name": "stdout",
     "output_type": "stream",
     "text": [
      "(1, 'Bipul', 'kumar', datetime.date(2023, 1, 15), 1, Decimal('40000.00'), 'Bipul kumar', '101')\n",
      "(2, 'John', 'Doe', datetime.date(2022, 1, 17), 2, Decimal('55000.00'), 'John Doe', '102')\n",
      "(3, 'Jane', 'Smith', datetime.date(2020, 3, 20), 1, Decimal('45000.00'), 'Jane Smith', '101')\n",
      "(5, 'Ajay', 'Miller', datetime.date(2019, 5, 22), 3, Decimal('38500.00'), 'Ajay Miller', '103')\n",
      "(6, 'John', 'Smith', datetime.date(2023, 4, 20), 3, Decimal('77000.00'), 'John Smith', '103')\n"
     ]
    }
   ],
   "source": [
    "for data in cur:\n",
    "    print(data)"
   ]
  },
  {
   "cell_type": "code",
   "execution_count": 12,
   "id": "6dc28d79-fabc-41c1-a0e2-be6f3c2f8b54",
   "metadata": {},
   "outputs": [
    {
     "data": {
      "text/plain": [
       "True"
      ]
     },
     "execution_count": 12,
     "metadata": {},
     "output_type": "execute_result"
    }
   ],
   "source": [
    "cur.close()"
   ]
  },
  {
   "cell_type": "code",
   "execution_count": 15,
   "id": "1303bb9f-b1eb-4c93-b97e-39c6b84bd06b",
   "metadata": {},
   "outputs": [
    {
     "name": "stdout",
     "output_type": "stream",
     "text": [
      "(1, 'Bipul', 'kumar', datetime.date(2023, 1, 15), 1, Decimal('40000.00'), 'Bipul kumar', '101')\n",
      "(2, 'John', 'Doe', datetime.date(2022, 1, 17), 2, Decimal('55000.00'), 'John Doe', '102')\n",
      "(3, 'Jane', 'Smith', datetime.date(2020, 3, 20), 1, Decimal('45000.00'), 'Jane Smith', '101')\n",
      "(5, 'Ajay', 'Miller', datetime.date(2019, 5, 22), 3, Decimal('38500.00'), 'Ajay Miller', '103')\n",
      "(6, 'John', 'Smith', datetime.date(2023, 4, 20), 3, Decimal('77000.00'), 'John Smith', '103')\n"
     ]
    }
   ],
   "source": [
    "#Establish connection with server\n",
    "mydb = mysql.connector.connect(host=\"localhost\",user=\"root\",password=\"725@Mysql\")\n",
    "\n",
    "#Define cursor to execute query\n",
    "cur = mydb.cursor()\n",
    "\n",
    "#Select database\n",
    "cur.execute(\"use CompanyDB\")\n",
    "\n",
    "#Define query\n",
    "query = 'select * from employees'\n",
    "cur.execute(query)\n",
    "\n",
    "for data in cur:\n",
    "    print(data)"
   ]
  },
  {
   "cell_type": "code",
   "execution_count": null,
   "id": "5fd60bbf-cae7-4afa-ad6c-2e7459baaf0c",
   "metadata": {},
   "outputs": [],
   "source": []
  }
 ],
 "metadata": {
  "kernelspec": {
   "display_name": "Python 3 (ipykernel)",
   "language": "python",
   "name": "python3"
  },
  "language_info": {
   "codemirror_mode": {
    "name": "ipython",
    "version": 3
   },
   "file_extension": ".py",
   "mimetype": "text/x-python",
   "name": "python",
   "nbconvert_exporter": "python",
   "pygments_lexer": "ipython3",
   "version": "3.9.0"
  }
 },
 "nbformat": 4,
 "nbformat_minor": 5
}
